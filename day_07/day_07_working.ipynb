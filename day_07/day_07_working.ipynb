{
 "cells": [
  {
   "cell_type": "code",
   "execution_count": 1,
   "id": "b4804b72",
   "metadata": {},
   "outputs": [],
   "source": [
    " with open(\"input.txt\", \"r\") as f:\n",
    "        input_file = list(f.read().splitlines())"
   ]
  },
  {
   "cell_type": "code",
   "execution_count": 177,
   "id": "83c1e48b",
   "metadata": {},
   "outputs": [],
   "source": [
    "def process_input_into_dirs(input_file):\n",
    "    dirs_and_contents = {}\n",
    "    i = 0\n",
    "    path = []\n",
    "    while i <= len(input_file)-1:\n",
    "        file_contents = []\n",
    "        if input_file[i] == '$ cd ..':\n",
    "            i += 1\n",
    "            path = path[:-1]\n",
    "        elif input_file[i][:4] == '$ cd':\n",
    "            dir_name = input_file[i][5:]\n",
    "            path += [dir_name]\n",
    "            i += 2\n",
    "            while i <= len(input_file)-1 and input_file[i][:4] != '$ cd':\n",
    "                if input_file[i] != '$ ls':\n",
    "                    file_contents.append(input_file[i])\n",
    "                i += 1\n",
    "            dirs_and_contents['/'.join(path)] = file_contents\n",
    "    return dirs_and_contents"
   ]
  },
  {
   "cell_type": "code",
   "execution_count": 178,
   "id": "47d85433",
   "metadata": {},
   "outputs": [],
   "source": [
    "directories = process_input_into_dirs(input_file)"
   ]
  },
  {
   "cell_type": "code",
   "execution_count": 194,
   "id": "b07245ab",
   "metadata": {},
   "outputs": [],
   "source": [
    "def list_directory_files(directory_path):\n",
    "    directory_files = []\n",
    "    path = directory_path\n",
    "    directory = directories.get(directory_path)\n",
    "    if len([i for i in directory if i[:3] == 'dir']) == 0:\n",
    "        directory_files += directory\n",
    "        return directory_files\n",
    "    elif len([i for i in directory if i[:3] == 'dir']) > 0:\n",
    "        directory_files += [i for i in directory if i[:3] != 'dir']\n",
    "        subdirectories = [i for i in directory if i[:3] == 'dir']\n",
    "        for sub_directory in subdirectories:\n",
    "            directory_files += list_directory_files(path + '/' + sub_directory[4:])\n",
    "        return directory_files"
   ]
  },
  {
   "cell_type": "code",
   "execution_count": 201,
   "id": "8956871b",
   "metadata": {},
   "outputs": [],
   "source": [
    "def calc_directory_size(directory_path):\n",
    "    files = list_directory_files(directory_path)\n",
    "    total_size = 0\n",
    "    for i in files:\n",
    "        size, name = i.split(' ')\n",
    "        total_size += int(size)\n",
    "    return total_size"
   ]
  },
  {
   "cell_type": "code",
   "execution_count": 203,
   "id": "e2f9fbbd",
   "metadata": {},
   "outputs": [],
   "source": [
    "def calc_total_size_sub_100k(directory_dict):\n",
    "    running_total = 0\n",
    "    for directories in directory_dict.keys():\n",
    "        if calc_directory_size(directories) < 100000:\n",
    "            running_total += calc_directory_size(directories)\n",
    "    return running_total"
   ]
  },
  {
   "cell_type": "markdown",
   "id": "b0d8d365",
   "metadata": {},
   "source": [
    "Part 1"
   ]
  },
  {
   "cell_type": "code",
   "execution_count": 204,
   "id": "6b5b56da",
   "metadata": {},
   "outputs": [
    {
     "data": {
      "text/plain": [
       "1792222"
      ]
     },
     "execution_count": 204,
     "metadata": {},
     "output_type": "execute_result"
    }
   ],
   "source": [
    "calc_total_size_sub_100k(directories)"
   ]
  },
  {
   "cell_type": "code",
   "execution_count": 223,
   "id": "01f74307",
   "metadata": {},
   "outputs": [],
   "source": [
    "def find_size_of_directory_to_delete(directory_dict):\n",
    "    total_available_space = 70000000\n",
    "    current_used_space = calc_directory_size('/')\n",
    "    remaining_space = total_available_space - current_used_space\n",
    "    required_space = 30000000 - remaining_space\n",
    "    directory_size_for_deletion = 30000000 \n",
    "    for directory in directory_dict.keys():\n",
    "        directory_size = calc_directory_size(directory)\n",
    "        if directory_size > required_space and directory_size < directory_size_for_deletion:\n",
    "            directory_for_deletion = directory\n",
    "            directory_size_for_deletion = directory_size\n",
    "    return directory_size_for_deletion"
   ]
  },
  {
   "cell_type": "markdown",
   "id": "e9d0cb37",
   "metadata": {},
   "source": [
    "Part 2"
   ]
  },
  {
   "cell_type": "code",
   "execution_count": 224,
   "id": "595453db",
   "metadata": {},
   "outputs": [
    {
     "data": {
      "text/plain": [
       "1112963"
      ]
     },
     "execution_count": 224,
     "metadata": {},
     "output_type": "execute_result"
    }
   ],
   "source": [
    "find_size_of_directory_to_delete(directories)"
   ]
  }
 ],
 "metadata": {
  "kernelspec": {
   "display_name": "Python 3 (ipykernel)",
   "language": "python",
   "name": "python3"
  },
  "language_info": {
   "codemirror_mode": {
    "name": "ipython",
    "version": 3
   },
   "file_extension": ".py",
   "mimetype": "text/x-python",
   "name": "python",
   "nbconvert_exporter": "python",
   "pygments_lexer": "ipython3",
   "version": "3.9.9"
  }
 },
 "nbformat": 4,
 "nbformat_minor": 5
}
