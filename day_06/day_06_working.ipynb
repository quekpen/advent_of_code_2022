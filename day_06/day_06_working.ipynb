{
 "cells": [
  {
   "cell_type": "code",
   "execution_count": 2,
   "id": "7842ae60",
   "metadata": {},
   "outputs": [],
   "source": [
    " with open(\"input.txt\", \"r\") as f:\n",
    "        buffer = list(f.read())"
   ]
  },
  {
   "cell_type": "code",
   "execution_count": 61,
   "id": "4863e779",
   "metadata": {},
   "outputs": [],
   "source": [
    "def check_same(subbuffer):\n",
    "    same = []\n",
    "    duplicate_letter_present = False\n",
    "    for i in subbuffer:\n",
    "        non_matching_chars = [j for j in subbuffer if i != j]\n",
    "        if len(non_matching_chars) < len(subbuffer) - 1:\n",
    "            same.append(True)\n",
    "    if len(same) > 0:\n",
    "        duplicate_letter_present = True\n",
    "    return duplicate_letter_present"
   ]
  },
  {
   "cell_type": "code",
   "execution_count": 79,
   "id": "a190b4f6",
   "metadata": {},
   "outputs": [],
   "source": [
    "def check_same_buffer(buffer, n):\n",
    "    i = 0\n",
    "    verdict = True\n",
    "    while verdict == True:\n",
    "        verdict = check_same(buffer[i:i+n])\n",
    "        i += 1\n",
    "    return i + n - 1"
   ]
  },
  {
   "cell_type": "markdown",
   "id": "3e5f1abf",
   "metadata": {},
   "source": [
    "Part 1"
   ]
  },
  {
   "cell_type": "code",
   "execution_count": 80,
   "id": "a29672f7",
   "metadata": {},
   "outputs": [
    {
     "data": {
      "text/plain": [
       "1651"
      ]
     },
     "execution_count": 80,
     "metadata": {},
     "output_type": "execute_result"
    }
   ],
   "source": [
    "check_same_buffer(buffer, 4)"
   ]
  },
  {
   "cell_type": "markdown",
   "id": "9bf18df2",
   "metadata": {},
   "source": [
    "Part 2"
   ]
  },
  {
   "cell_type": "code",
   "execution_count": 81,
   "id": "204c0551",
   "metadata": {},
   "outputs": [
    {
     "data": {
      "text/plain": [
       "3837"
      ]
     },
     "execution_count": 81,
     "metadata": {},
     "output_type": "execute_result"
    }
   ],
   "source": [
    "check_same_buffer(buffer, 14)"
   ]
  }
 ],
 "metadata": {
  "kernelspec": {
   "display_name": "Python 3 (ipykernel)",
   "language": "python",
   "name": "python3"
  },
  "language_info": {
   "codemirror_mode": {
    "name": "ipython",
    "version": 3
   },
   "file_extension": ".py",
   "mimetype": "text/x-python",
   "name": "python",
   "nbconvert_exporter": "python",
   "pygments_lexer": "ipython3",
   "version": "3.9.9"
  }
 },
 "nbformat": 4,
 "nbformat_minor": 5
}
