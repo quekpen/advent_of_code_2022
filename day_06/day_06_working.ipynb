{
 "cells": [
  {
   "cell_type": "code",
   "execution_count": 2,
   "id": "de7647b3",
   "metadata": {},
   "outputs": [],
   "source": [
    " with open(\"input.txt\", \"r\") as f:\n",
    "        buffer = list(f.read())"
   ]
  },
  {
   "cell_type": "code",
   "execution_count": 61,
   "id": "7da779d6",
   "metadata": {},
   "outputs": [],
   "source": [
    "def check_same(subbuffer):\n",
    "    same = []\n",
    "    duplicate_letter_present = False\n",
    "    for i in subbuffer:\n",
    "        non_matching_chars = [j for j in subbuffer if i != j]\n",
    "        if len(non_matching_chars) < len(subbuffer) - 1:\n",
    "            same.append(True)\n",
    "    if len(same) > 0:\n",
    "        duplicate_letter_present = True\n",
    "    return duplicate_letter_present"
   ]
  },
  {
   "cell_type": "code",
   "execution_count": 74,
   "id": "8dfe6547",
   "metadata": {},
   "outputs": [],
   "source": [
    "def check_same_buffer(buffer):\n",
    "    i = 0\n",
    "    verdict = True\n",
    "    while verdict == True:\n",
    "        verdict = check_same(buffer[i:i+4])\n",
    "        i += 1\n",
    "    return i + 3"
   ]
  },
  {
   "cell_type": "markdown",
   "id": "748bd8df",
   "metadata": {},
   "source": [
    "Part 1"
   ]
  },
  {
   "cell_type": "code",
   "execution_count": 75,
   "id": "9465d1d6",
   "metadata": {},
   "outputs": [
    {
     "data": {
      "text/plain": [
       "1651"
      ]
     },
     "execution_count": 75,
     "metadata": {},
     "output_type": "execute_result"
    }
   ],
   "source": [
    "check_same_buffer(buffer)"
   ]
  },
  {
   "cell_type": "code",
   "execution_count": 77,
   "id": "2a77ca70",
   "metadata": {},
   "outputs": [],
   "source": [
    "def check_same_buffer(buffer):\n",
    "    i = 0\n",
    "    verdict = True\n",
    "    while verdict == True:\n",
    "        verdict = check_same(buffer[i:i+14])\n",
    "        i += 1\n",
    "    return i + 13"
   ]
  },
  {
   "cell_type": "markdown",
   "id": "7ed21ea2",
   "metadata": {},
   "source": [
    "Part 2"
   ]
  },
  {
   "cell_type": "code",
   "execution_count": 78,
   "id": "60523b72",
   "metadata": {},
   "outputs": [
    {
     "data": {
      "text/plain": [
       "3837"
      ]
     },
     "execution_count": 78,
     "metadata": {},
     "output_type": "execute_result"
    }
   ],
   "source": [
    "check_same_buffer(buffer)"
   ]
  }
 ],
 "metadata": {
  "kernelspec": {
   "display_name": "Python 3 (ipykernel)",
   "language": "python",
   "name": "python3"
  },
  "language_info": {
   "codemirror_mode": {
    "name": "ipython",
    "version": 3
   },
   "file_extension": ".py",
   "mimetype": "text/x-python",
   "name": "python",
   "nbconvert_exporter": "python",
   "pygments_lexer": "ipython3",
   "version": "3.9.9"
  }
 },
 "nbformat": 4,
 "nbformat_minor": 5
}
