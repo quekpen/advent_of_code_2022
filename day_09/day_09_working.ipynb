{
 "cells": [
  {
   "cell_type": "code",
   "execution_count": 1,
   "id": "16ae94bb",
   "metadata": {},
   "outputs": [],
   "source": [
    " with open(\"input.txt\", \"r\") as f:\n",
    "        input_file = list(f.read().splitlines())"
   ]
  },
  {
   "cell_type": "code",
   "execution_count": 2,
   "id": "24d959ab",
   "metadata": {},
   "outputs": [],
   "source": [
    "def move_head_one_step(pos_h, direction):\n",
    "    if direction == 'U':\n",
    "        pos_h = (pos_h[0], pos_h[1] + 1)\n",
    "    elif direction == 'D':\n",
    "        pos_h = (pos_h[0], pos_h[1] - 1)\n",
    "    elif direction == 'L':\n",
    "        pos_h = (pos_h[0] - 1, pos_h[1])\n",
    "    elif direction == 'R':\n",
    "        pos_h = (pos_h[0] + 1, pos_h[1])\n",
    "    return pos_h"
   ]
  },
  {
   "cell_type": "code",
   "execution_count": 3,
   "id": "67973919",
   "metadata": {},
   "outputs": [],
   "source": [
    "def move_tail(instruction, pos_list):\n",
    "    \n",
    "    direction = instruction.split(' ')[0]\n",
    "    steps = int(instruction.split(' ')[1])\n",
    "    tail_position_list = [pos_list[-1]]\n",
    "    \n",
    "    for step in range(steps):\n",
    "        \n",
    "        pos_list[0] = move_head_one_step(pos_list[0], direction)\n",
    "        \n",
    "        for i in range(1,len(pos_list)):\n",
    "            if ((pos_list[i][0] - pos_list[i - 1][0])**2 + (pos_list[i][1] - pos_list[i - 1][1])**2 == 5\n",
    "                or (pos_list[i][0] - pos_list[i - 1][0])**2 + (pos_list[i][1] - pos_list[i - 1][1])**2 == 8):\n",
    "                pos_list[i] = (pos_list[i][0] - (pos_list[i][0] - pos_list[i - 1][0])/abs(pos_list[i][0] - pos_list[i - 1][0]), \n",
    "                               pos_list[i][1] - (pos_list[i][1] - pos_list[i - 1][1])/abs(pos_list[i][1] - pos_list[i - 1][1]))\n",
    "            elif (pos_list[i][0] - pos_list[i - 1][0])**2 + (pos_list[i][1] - pos_list[i - 1][1])**2 == 4:\n",
    "                if (pos_list[i][0] - pos_list[i - 1][0])**2 == 4:\n",
    "                    pos_list[i] = (pos_list[i][0] - (pos_list[i][0] - pos_list[i - 1][0])/abs(pos_list[i][0] - pos_list[i - 1][0]), \n",
    "                                   pos_list[i][1])\n",
    "                elif (pos_list[i][1] - pos_list[i - 1][1])**2 == 4:\n",
    "                    pos_list[i] = (pos_list[i][0], \n",
    "                                   pos_list[i][1] - (pos_list[i][1] - pos_list[i - 1][1])/abs(pos_list[i][1] - pos_list[i - 1][1]))\n",
    "        \n",
    "        tail_position_list.append(pos_list[-1])\n",
    "     \n",
    "    return pos_list, list(set(tail_position_list))"
   ]
  },
  {
   "cell_type": "code",
   "execution_count": 6,
   "id": "f48d692e",
   "metadata": {},
   "outputs": [],
   "source": [
    "def simulate_rope(instructions, rope_length):\n",
    "    \n",
    "    pos_list = [(0,0)]*rope_length\n",
    "    tail_positions = [pos_list[-1]]\n",
    "    \n",
    "    for i in instructions:\n",
    "        pos_list, tail_position_list = move_tail(i, pos_list)\n",
    "        tail_positions += tail_position_list\n",
    "        \n",
    "    return len(list(set(tail_positions)))"
   ]
  },
  {
   "cell_type": "markdown",
   "id": "51483fb6",
   "metadata": {},
   "source": [
    "Part 1"
   ]
  },
  {
   "cell_type": "code",
   "execution_count": 7,
   "id": "3309795f",
   "metadata": {},
   "outputs": [
    {
     "data": {
      "text/plain": [
       "6266"
      ]
     },
     "execution_count": 7,
     "metadata": {},
     "output_type": "execute_result"
    }
   ],
   "source": [
    "simulate_rope(input_file, 2)"
   ]
  },
  {
   "cell_type": "markdown",
   "id": "9bce798a",
   "metadata": {},
   "source": [
    "Part 2"
   ]
  },
  {
   "cell_type": "code",
   "execution_count": 8,
   "id": "2ffae35e",
   "metadata": {},
   "outputs": [
    {
     "data": {
      "text/plain": [
       "2369"
      ]
     },
     "execution_count": 8,
     "metadata": {},
     "output_type": "execute_result"
    }
   ],
   "source": [
    "simulate_rope(input_file, 10)"
   ]
  }
 ],
 "metadata": {
  "kernelspec": {
   "display_name": "Python 3 (ipykernel)",
   "language": "python",
   "name": "python3"
  },
  "language_info": {
   "codemirror_mode": {
    "name": "ipython",
    "version": 3
   },
   "file_extension": ".py",
   "mimetype": "text/x-python",
   "name": "python",
   "nbconvert_exporter": "python",
   "pygments_lexer": "ipython3",
   "version": "3.9.9"
  }
 },
 "nbformat": 4,
 "nbformat_minor": 5
}
