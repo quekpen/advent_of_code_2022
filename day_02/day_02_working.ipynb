{
 "cells": [
  {
   "cell_type": "code",
   "execution_count": 2,
   "id": "2086a4ed",
   "metadata": {},
   "outputs": [],
   "source": [
    "import csv"
   ]
  },
  {
   "cell_type": "code",
   "execution_count": 3,
   "id": "aa9689e6",
   "metadata": {},
   "outputs": [],
   "source": [
    "with open('input.txt', newline='') as f:\n",
    "    reader = csv.reader(f)\n",
    "    strategy = []\n",
    "    for row in reader:\n",
    "        strategy.append(row[0]) "
   ]
  },
  {
   "cell_type": "code",
   "execution_count": 4,
   "id": "1c534aab",
   "metadata": {},
   "outputs": [],
   "source": [
    "def translate_actions(action):\n",
    "    if action == 'A' or action == 'X':\n",
    "        translated_action = 0\n",
    "    elif action == 'B' or action == 'Y':\n",
    "        translated_action = 1\n",
    "    elif action == 'C' or action == 'Z':\n",
    "        translated_action = 2\n",
    "    return translated_action"
   ]
  },
  {
   "cell_type": "code",
   "execution_count": 5,
   "id": "9651b5b8",
   "metadata": {},
   "outputs": [],
   "source": [
    "def translate_game(game):\n",
    "    return translate_actions(game[0]), translate_actions(game[-1])"
   ]
  },
  {
   "cell_type": "code",
   "execution_count": 6,
   "id": "115f512f",
   "metadata": {},
   "outputs": [],
   "source": [
    "def determine_winner(translated_game):\n",
    "    if translated_game[0] == translated_game[1]:\n",
    "        result = 3\n",
    "    elif translated_game[1] == (translated_game[0] + 1) % 3:\n",
    "        result = 6\n",
    "    else:\n",
    "        result = 0\n",
    "    return result"
   ]
  },
  {
   "cell_type": "code",
   "execution_count": 7,
   "id": "c72a0ee1",
   "metadata": {},
   "outputs": [],
   "source": [
    "def calculate_strategy_score(strategy):\n",
    "    score = 0\n",
    "    for game in strategy:\n",
    "        score += determine_winner(translate_game(game)) + translate_actions(game[-1]) + 1\n",
    "    return score"
   ]
  },
  {
   "cell_type": "markdown",
   "id": "97775790",
   "metadata": {},
   "source": [
    "Part 1"
   ]
  },
  {
   "cell_type": "code",
   "execution_count": 8,
   "id": "9772ac23",
   "metadata": {},
   "outputs": [
    {
     "data": {
      "text/plain": [
       "12586"
      ]
     },
     "execution_count": 8,
     "metadata": {},
     "output_type": "execute_result"
    }
   ],
   "source": [
    "calculate_strategy_score(strategy)"
   ]
  },
  {
   "cell_type": "code",
   "execution_count": 9,
   "id": "5624ee82",
   "metadata": {},
   "outputs": [],
   "source": [
    "def determine_target(game):\n",
    "    opponent_move = translate_actions(game[0])\n",
    "    if game[-1] == 'Y':\n",
    "        desired_move = opponent_move\n",
    "    elif game[-1] == 'X':\n",
    "        desired_move = (opponent_move - 1) % 3\n",
    "    elif game[-1] == 'Z':\n",
    "        desired_move = (opponent_move + 1) % 3\n",
    "    return opponent_move, desired_move"
   ]
  },
  {
   "cell_type": "code",
   "execution_count": 10,
   "id": "8cf57551",
   "metadata": {},
   "outputs": [],
   "source": [
    "def calculate_target_score(strategy):\n",
    "    score = 0\n",
    "    for game in strategy:\n",
    "        score += determine_winner(determine_target(game)) + determine_target(game)[-1] + 1\n",
    "    return score"
   ]
  },
  {
   "cell_type": "markdown",
   "id": "0477c111",
   "metadata": {},
   "source": [
    "Part 2"
   ]
  },
  {
   "cell_type": "code",
   "execution_count": 12,
   "id": "a4f2065a",
   "metadata": {},
   "outputs": [
    {
     "data": {
      "text/plain": [
       "13193"
      ]
     },
     "execution_count": 12,
     "metadata": {},
     "output_type": "execute_result"
    }
   ],
   "source": [
    "calculate_target_score(strategy)"
   ]
  }
 ],
 "metadata": {
  "kernelspec": {
   "display_name": "Python 3 (ipykernel)",
   "language": "python",
   "name": "python3"
  },
  "language_info": {
   "codemirror_mode": {
    "name": "ipython",
    "version": 3
   },
   "file_extension": ".py",
   "mimetype": "text/x-python",
   "name": "python",
   "nbconvert_exporter": "python",
   "pygments_lexer": "ipython3",
   "version": "3.9.9"
  }
 },
 "nbformat": 4,
 "nbformat_minor": 5
}
