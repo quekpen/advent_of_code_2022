{
 "cells": [
  {
   "cell_type": "code",
   "execution_count": 1,
   "id": "b0ae129b",
   "metadata": {},
   "outputs": [],
   "source": [
    " with open(\"input.txt\", \"r\") as f:\n",
    "        input_file = list(f.read().splitlines())"
   ]
  },
  {
   "cell_type": "code",
   "execution_count": 2,
   "id": "48e6cbab",
   "metadata": {},
   "outputs": [],
   "source": [
    "def execute_instruction(x_register, cycle_numbers, instruction):\n",
    "    if instruction == 'noop':\n",
    "        cycle_numbers.append(cycle_numbers[-1] + 1)\n",
    "        x_register.append(x_register[-1])\n",
    "    elif instruction[0:4] == 'addx':\n",
    "        x_register.append(x_register[-1])\n",
    "        x_register.append(x_register[-1] + int(instruction[5:]))\n",
    "        cycle_numbers.append(cycle_numbers[-1] + 1)\n",
    "        cycle_numbers.append(cycle_numbers[-1] + 1)\n",
    "    return x_register, cycle_numbers"
   ]
  },
  {
   "cell_type": "code",
   "execution_count": 3,
   "id": "a74e67a8",
   "metadata": {},
   "outputs": [],
   "source": [
    "def execute_program(starting_x, instructions):\n",
    "    x_register = [starting_x]\n",
    "    cycle_numbers = [0]\n",
    "    for i in instructions:\n",
    "        x_register, cycle_numbers = execute_instruction(x_register, cycle_numbers, i)\n",
    "    return x_register"
   ]
  },
  {
   "cell_type": "code",
   "execution_count": 4,
   "id": "e9926ae3",
   "metadata": {},
   "outputs": [],
   "source": [
    "def calculate_signal_strength(nth_cycle, x_register):\n",
    "    return x_register[nth_cycle - 1] * nth_cycle"
   ]
  },
  {
   "cell_type": "code",
   "execution_count": 5,
   "id": "b053e7e4",
   "metadata": {},
   "outputs": [],
   "source": [
    "def calculate_signal_strength_array(nth_cycle_list, x_register):\n",
    "    signal_strength_sum = 0\n",
    "    for n in nth_cycle_list:\n",
    "        signal_strength_sum += calculate_signal_strength(n, x_register)\n",
    "    return signal_strength_sum"
   ]
  },
  {
   "cell_type": "code",
   "execution_count": 7,
   "id": "7fbd6215",
   "metadata": {},
   "outputs": [],
   "source": [
    "x_register = execute_program(1, input_file)"
   ]
  },
  {
   "cell_type": "markdown",
   "id": "9012f333",
   "metadata": {},
   "source": [
    "Part 1"
   ]
  },
  {
   "cell_type": "code",
   "execution_count": 8,
   "id": "47ca30e1",
   "metadata": {},
   "outputs": [
    {
     "data": {
      "text/plain": [
       "14340"
      ]
     },
     "execution_count": 8,
     "metadata": {},
     "output_type": "execute_result"
    }
   ],
   "source": [
    "calculate_signal_strength_array([20, 60, 100, 140, 180, 220], x_register)"
   ]
  },
  {
   "cell_type": "code",
   "execution_count": 9,
   "id": "1bbcb793",
   "metadata": {},
   "outputs": [],
   "source": [
    "def print_pixel(x_value, nth_cycle):\n",
    "    if nth_cycle % 40 <= x_value + 1 and nth_cycle % 40 >= x_value - 1:\n",
    "        print_pixel = True\n",
    "    else:\n",
    "        print_pixel = False\n",
    "    return print_pixel"
   ]
  },
  {
   "cell_type": "code",
   "execution_count": 10,
   "id": "e1fbd418",
   "metadata": {},
   "outputs": [],
   "source": [
    "def generate_pixel_list(x_register):\n",
    "    nth_cycle = 0\n",
    "    pixel_list = []\n",
    "    for x in x_register:\n",
    "        if print_pixel(x, nth_cycle) == True:\n",
    "            pixel_list.append('#')\n",
    "        else:\n",
    "            pixel_list.append('.')\n",
    "        nth_cycle += 1\n",
    "    return pixel_list"
   ]
  },
  {
   "cell_type": "code",
   "execution_count": 11,
   "id": "8537bd60",
   "metadata": {},
   "outputs": [],
   "source": [
    "def show_crt_display(pixel_list):\n",
    "    for i in range(6):\n",
    "        print(''.join(pixel_list[i*40:(i+1)*40]))"
   ]
  },
  {
   "cell_type": "markdown",
   "id": "deb92cac",
   "metadata": {},
   "source": [
    "Part 2"
   ]
  },
  {
   "cell_type": "code",
   "execution_count": 12,
   "id": "71cab3f0",
   "metadata": {},
   "outputs": [
    {
     "name": "stdout",
     "output_type": "stream",
     "text": [
      "###...##..###....##..##..###..#..#.###..\n",
      "#..#.#..#.#..#....#.#..#.#..#.#..#.#..#.\n",
      "#..#.#..#.#..#....#.#....###..####.#..#.\n",
      "###..####.###.....#.#....#..#.#..#.###..\n",
      "#....#..#.#....#..#.#..#.#..#.#..#.#....\n",
      "#....#..#.#.....##...##..###..#..#.#....\n"
     ]
    }
   ],
   "source": [
    "show_crt_display(generate_pixel_list(x_register))"
   ]
  }
 ],
 "metadata": {
  "kernelspec": {
   "display_name": "Python 3 (ipykernel)",
   "language": "python",
   "name": "python3"
  },
  "language_info": {
   "codemirror_mode": {
    "name": "ipython",
    "version": 3
   },
   "file_extension": ".py",
   "mimetype": "text/x-python",
   "name": "python",
   "nbconvert_exporter": "python",
   "pygments_lexer": "ipython3",
   "version": "3.9.9"
  }
 },
 "nbformat": 4,
 "nbformat_minor": 5
}
