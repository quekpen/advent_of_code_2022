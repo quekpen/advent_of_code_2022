{
 "cells": [
  {
   "cell_type": "code",
   "execution_count": 7,
   "id": "b53d60b3",
   "metadata": {},
   "outputs": [],
   "source": [
    " with open(\"input.txt\", \"r\") as f:\n",
    "        backpack_contents = list(f.read().splitlines())"
   ]
  },
  {
   "cell_type": "code",
   "execution_count": 21,
   "id": "ae76dfe2",
   "metadata": {},
   "outputs": [],
   "source": [
    "def split_into_pockets(contents):\n",
    "    num_items_in_pocket = int(len(contents)/2)\n",
    "    pocket_1 = contents[:num_items_in_pocket]\n",
    "    pocket_2 = contents[num_items_in_pocket:]\n",
    "    return pocket_1 , pocket_2"
   ]
  },
  {
   "cell_type": "code",
   "execution_count": 30,
   "id": "2cdbc7a5",
   "metadata": {},
   "outputs": [],
   "source": [
    "def identify_item(pocket_1, pocket_2):\n",
    "    for i in list(pocket_1):\n",
    "        if pocket_2.find(i) != -1:\n",
    "            item = i\n",
    "    return item"
   ]
  },
  {
   "cell_type": "code",
   "execution_count": 46,
   "id": "2994aede",
   "metadata": {},
   "outputs": [],
   "source": [
    "def assign_priority(item):\n",
    "    lower_letters = [chr(i) for i in range(ord('a'),ord('z')+1)]\n",
    "    upper_letters = [chr(i) for i in range(ord('A'),ord('Z')+1)]\n",
    "    priority = dict(zip(lower_letters + upper_letters, list(range(1,53))))\n",
    "    return priority[item]"
   ]
  },
  {
   "cell_type": "code",
   "execution_count": 48,
   "id": "b4655ab2",
   "metadata": {},
   "outputs": [],
   "source": [
    "def sum_priorities_wrongly_packed(backpacks):\n",
    "    priorities = 0\n",
    "    for backpack in backpacks:\n",
    "        pocket_1, pocket_2 = split_into_pockets(backpack)\n",
    "        wrongly_packed_item = identify_item(pocket_1, pocket_2)\n",
    "        priorities += assign_priority(wrongly_packed_item)\n",
    "    return priorities"
   ]
  },
  {
   "cell_type": "markdown",
   "id": "a37b28c0",
   "metadata": {},
   "source": [
    "Part 1"
   ]
  },
  {
   "cell_type": "code",
   "execution_count": 49,
   "id": "6e725002",
   "metadata": {},
   "outputs": [
    {
     "data": {
      "text/plain": [
       "8202"
      ]
     },
     "execution_count": 49,
     "metadata": {},
     "output_type": "execute_result"
    }
   ],
   "source": [
    "sum_priorities_wrongly_packed(backpack_contents)"
   ]
  },
  {
   "cell_type": "code",
   "execution_count": 54,
   "id": "84f4f701",
   "metadata": {},
   "outputs": [],
   "source": [
    "def find_common_item(one, two, three):\n",
    "    common_one_two = []\n",
    "    for i in list(one):\n",
    "        if two.find(i) != -1:\n",
    "            common_one_two.append(i)\n",
    "    for i in common_one_two:\n",
    "        if three.find(i) != -1:\n",
    "            item = i\n",
    "    return item"
   ]
  },
  {
   "cell_type": "code",
   "execution_count": 60,
   "id": "caf0ec6d",
   "metadata": {},
   "outputs": [],
   "source": [
    "def sum_badge_item_priorities(backpacks):\n",
    "    priorities = 0\n",
    "    for i in range(0,int(len(backpacks)/3)):\n",
    "        common_item = find_common_item(backpacks[3*i], backpacks[3*i+1], backpacks[3*i+2])\n",
    "        priority = assign_priority(common_item)\n",
    "        priorities += priority\n",
    "    return priorities"
   ]
  },
  {
   "cell_type": "markdown",
   "id": "f1d5c0ec",
   "metadata": {},
   "source": [
    "Part 2"
   ]
  },
  {
   "cell_type": "code",
   "execution_count": 63,
   "id": "a0d2ed57",
   "metadata": {},
   "outputs": [
    {
     "data": {
      "text/plain": [
       "2864"
      ]
     },
     "execution_count": 63,
     "metadata": {},
     "output_type": "execute_result"
    }
   ],
   "source": [
    "sum_badge_item_priorities(backpack_contents)"
   ]
  }
 ],
 "metadata": {
  "kernelspec": {
   "display_name": "Python 3 (ipykernel)",
   "language": "python",
   "name": "python3"
  },
  "language_info": {
   "codemirror_mode": {
    "name": "ipython",
    "version": 3
   },
   "file_extension": ".py",
   "mimetype": "text/x-python",
   "name": "python",
   "nbconvert_exporter": "python",
   "pygments_lexer": "ipython3",
   "version": "3.9.9"
  }
 },
 "nbformat": 4,
 "nbformat_minor": 5
}
