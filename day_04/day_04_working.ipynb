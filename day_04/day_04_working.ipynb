{
 "cells": [
  {
   "cell_type": "code",
   "execution_count": 1,
   "id": "5a8a1074",
   "metadata": {},
   "outputs": [],
   "source": [
    " with open(\"input.txt\", \"r\") as f:\n",
    "        section_assignments = list(f.read().splitlines())"
   ]
  },
  {
   "cell_type": "code",
   "execution_count": 33,
   "id": "56ef6868",
   "metadata": {},
   "outputs": [],
   "source": [
    "def identify_containment(section_assignment):\n",
    "    assignments = section_assignment.split(',')\n",
    "    assignment_ranges = [i.split('-') for i in assignments]\n",
    "    first = [int(i) for i in assignment_ranges[0]]\n",
    "    second = [int(i) for i in assignment_ranges[1]]\n",
    "    if (first[0] >= second[0] and first[1] <= second[1]) or (first[0] <= second[0] and first[1] >= second[1]):\n",
    "        verdict = 'contained'\n",
    "    else:\n",
    "        verdict = 'not contained'\n",
    "    return verdict"
   ]
  },
  {
   "cell_type": "code",
   "execution_count": 37,
   "id": "28f5a89d",
   "metadata": {},
   "outputs": [],
   "source": [
    "def count_contained(section_assignments):\n",
    "    num_fully_contained = 0\n",
    "    for i in section_assignments:\n",
    "        if identify_containment(i) == 'contained':\n",
    "            num_fully_contained += 1\n",
    "    return num_fully_contained"
   ]
  },
  {
   "cell_type": "markdown",
   "id": "f7afc2ba",
   "metadata": {},
   "source": [
    "Part 1"
   ]
  },
  {
   "cell_type": "code",
   "execution_count": 38,
   "id": "3abad092",
   "metadata": {},
   "outputs": [
    {
     "data": {
      "text/plain": [
       "459"
      ]
     },
     "execution_count": 38,
     "metadata": {},
     "output_type": "execute_result"
    }
   ],
   "source": [
    "count_contained(section_assignments)"
   ]
  },
  {
   "cell_type": "code",
   "execution_count": 59,
   "id": "1a3e2d82",
   "metadata": {},
   "outputs": [],
   "source": [
    "def identify_overlapping(section_assignment):\n",
    "    assignments = section_assignment.split(',')\n",
    "    assignment_ranges = [i.split('-') for i in assignments]\n",
    "    first = [int(i) for i in assignment_ranges[0]]\n",
    "    second = [int(i) for i in assignment_ranges[1]]\n",
    "    if (first[1] >= second[0] and first[0] <= second[1]) or (first[0] <= second[1] and first[1] >= second[0]):\n",
    "        verdict = 'overlapping'\n",
    "    else:\n",
    "        verdict = 'not overlapping'\n",
    "    return verdict"
   ]
  },
  {
   "cell_type": "code",
   "execution_count": 61,
   "id": "465d3ebe",
   "metadata": {},
   "outputs": [],
   "source": [
    "def count_overlapping(section_assignments):\n",
    "    num_overlapping = 0\n",
    "    for i in section_assignments:\n",
    "        if identify_overlapping(i) == 'overlapping':\n",
    "            num_overlapping += 1\n",
    "    return num_overlapping"
   ]
  },
  {
   "cell_type": "markdown",
   "id": "28e49690",
   "metadata": {},
   "source": [
    "Part 2"
   ]
  },
  {
   "cell_type": "code",
   "execution_count": 62,
   "id": "fc9b0cba",
   "metadata": {},
   "outputs": [
    {
     "data": {
      "text/plain": [
       "779"
      ]
     },
     "execution_count": 62,
     "metadata": {},
     "output_type": "execute_result"
    }
   ],
   "source": [
    "count_overlapping(section_assignments)"
   ]
  }
 ],
 "metadata": {
  "kernelspec": {
   "display_name": "Python 3 (ipykernel)",
   "language": "python",
   "name": "python3"
  },
  "language_info": {
   "codemirror_mode": {
    "name": "ipython",
    "version": 3
   },
   "file_extension": ".py",
   "mimetype": "text/x-python",
   "name": "python",
   "nbconvert_exporter": "python",
   "pygments_lexer": "ipython3",
   "version": "3.9.9"
  }
 },
 "nbformat": 4,
 "nbformat_minor": 5
}
