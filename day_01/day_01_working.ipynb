{
 "cells": [
  {
   "cell_type": "code",
   "execution_count": 1,
   "id": "3767363b",
   "metadata": {},
   "outputs": [],
   "source": [
    "import csv"
   ]
  },
  {
   "cell_type": "code",
   "execution_count": 2,
   "id": "db356c48",
   "metadata": {},
   "outputs": [],
   "source": [
    "with open('input.txt', newline='') as f:\n",
    "    reader = csv.reader(f, quoting = csv.QUOTE_NONNUMERIC)\n",
    "    elf_load = 0\n",
    "    elf_load_list = []\n",
    "    for row in reader:\n",
    "        if row == []:\n",
    "            elf_load_list.append(elf_load)\n",
    "            elf_load = 0\n",
    "        else:\n",
    "            elf_load += row[0]"
   ]
  },
  {
   "cell_type": "markdown",
   "id": "4879cba8",
   "metadata": {},
   "source": [
    "Part 1"
   ]
  },
  {
   "cell_type": "code",
   "execution_count": 3,
   "id": "686ec9ab",
   "metadata": {},
   "outputs": [
    {
     "data": {
      "text/plain": [
       "69528.0"
      ]
     },
     "execution_count": 3,
     "metadata": {},
     "output_type": "execute_result"
    }
   ],
   "source": [
    "max(elf_load_list)"
   ]
  },
  {
   "cell_type": "markdown",
   "id": "69292ef4",
   "metadata": {},
   "source": [
    "Part 2"
   ]
  },
  {
   "cell_type": "code",
   "execution_count": 4,
   "id": "1fa5b833",
   "metadata": {},
   "outputs": [
    {
     "data": {
      "text/plain": [
       "206152.0"
      ]
     },
     "execution_count": 4,
     "metadata": {},
     "output_type": "execute_result"
    }
   ],
   "source": [
    "elf_load_list.sort()\n",
    "sum(elf_load_list[-3:])"
   ]
  },
  {
   "cell_type": "code",
   "execution_count": null,
   "id": "ac5ca028",
   "metadata": {},
   "outputs": [],
   "source": []
  }
 ],
 "metadata": {
  "kernelspec": {
   "display_name": "Python 3 (ipykernel)",
   "language": "python",
   "name": "python3"
  },
  "language_info": {
   "codemirror_mode": {
    "name": "ipython",
    "version": 3
   },
   "file_extension": ".py",
   "mimetype": "text/x-python",
   "name": "python",
   "nbconvert_exporter": "python",
   "pygments_lexer": "ipython3",
   "version": "3.9.9"
  }
 },
 "nbformat": 4,
 "nbformat_minor": 5
}
