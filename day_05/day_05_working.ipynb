{
 "cells": [
  {
   "cell_type": "code",
   "execution_count": 1,
   "id": "3d6687cb",
   "metadata": {},
   "outputs": [],
   "source": [
    " with open(\"input.txt\", \"r\") as f:\n",
    "        input_file = list(f.read().splitlines())"
   ]
  },
  {
   "cell_type": "code",
   "execution_count": 2,
   "id": "a0a3ed48",
   "metadata": {},
   "outputs": [],
   "source": [
    "def read_stacks(file):\n",
    "    stacks = dict.fromkeys(range(1,10), '')\n",
    "    for i in input_file[0:8]:\n",
    "        for j in range(0, int((len(i)+1)/4)):\n",
    "            if i[1 + 4*j] != ' ':\n",
    "                stacks[j+1] += i[1 + 4*j]\n",
    "    return stacks"
   ]
  },
  {
   "cell_type": "code",
   "execution_count": 3,
   "id": "d75d15e7",
   "metadata": {},
   "outputs": [],
   "source": [
    "stacks = read_stacks(input_file)"
   ]
  },
  {
   "cell_type": "code",
   "execution_count": 4,
   "id": "9f1b0f21",
   "metadata": {},
   "outputs": [],
   "source": [
    "def move_crates(instruction, stacks_input):\n",
    "    instruction = instruction.split(' ')\n",
    "    num_to_move = int(instruction[1])\n",
    "    stack_from = int(instruction[3])\n",
    "    stack_to = int(instruction[5])\n",
    "    for i in range(0, num_to_move):\n",
    "        stacks_input[stack_to] = stacks_input[stack_from][i] + stacks_input[stack_to]\n",
    "    stacks_input[stack_from] = stacks_input[stack_from][num_to_move:]\n",
    "    return stacks_input"
   ]
  },
  {
   "cell_type": "code",
   "execution_count": 5,
   "id": "80709f5d",
   "metadata": {},
   "outputs": [],
   "source": [
    "def move_crates_9001(instruction, stacks_input):\n",
    "    instruction = instruction.split(' ')\n",
    "    num_to_move = int(instruction[1])\n",
    "    stack_from = int(instruction[3])\n",
    "    stack_to = int(instruction[5])\n",
    "    stacks_input[stack_to] = stacks_input[stack_from][0:num_to_move] + stacks_input[stack_to]\n",
    "    stacks_input[stack_from] = stacks_input[stack_from][num_to_move:]\n",
    "    return stacks_input"
   ]
  },
  {
   "cell_type": "code",
   "execution_count": 6,
   "id": "01195c5c",
   "metadata": {},
   "outputs": [],
   "source": [
    "def move_all_crates(input_instructions, stacks_input, model):\n",
    "    if model == '9000':\n",
    "        for i in range(10,len(input_file)):\n",
    "            move_crates(input_instructions[i], stacks_input)\n",
    "    elif model == '9001':\n",
    "        for i in range(10,len(input_file)):\n",
    "            move_crates_9001(input_instructions[i], stacks_input)\n",
    "    return stacks_input"
   ]
  },
  {
   "cell_type": "code",
   "execution_count": 7,
   "id": "91d3cad9",
   "metadata": {},
   "outputs": [],
   "source": [
    "def top_crates(stacks_input):\n",
    "    top_crates = ''\n",
    "    for i in stacks.keys():\n",
    "        top_crates += stacks[i][0]\n",
    "    return top_crates"
   ]
  },
  {
   "cell_type": "code",
   "execution_count": 8,
   "id": "7b441367",
   "metadata": {},
   "outputs": [
    {
     "data": {
      "text/plain": [
       "{1: 'TMMQR',\n",
       " 2: 'PRSH',\n",
       " 3: 'GPCDZT',\n",
       " 4: 'VF',\n",
       " 5: 'Q',\n",
       " 6: 'PLBHSHWFMRGSMNRGSPHP',\n",
       " 7: 'FF',\n",
       " 8: 'DPQDJHNTLWZLHPR',\n",
       " 9: 'H'}"
      ]
     },
     "execution_count": 8,
     "metadata": {},
     "output_type": "execute_result"
    }
   ],
   "source": [
    "move_all_crates(input_file, stacks, '9000')"
   ]
  },
  {
   "cell_type": "markdown",
   "id": "de8fbfc8",
   "metadata": {},
   "source": [
    "Part 1"
   ]
  },
  {
   "cell_type": "code",
   "execution_count": 9,
   "id": "e0211063",
   "metadata": {},
   "outputs": [
    {
     "data": {
      "text/plain": [
       "'TPGVQPFDH'"
      ]
     },
     "execution_count": 9,
     "metadata": {},
     "output_type": "execute_result"
    }
   ],
   "source": [
    "top_crates(stacks)"
   ]
  },
  {
   "cell_type": "code",
   "execution_count": 10,
   "id": "6e375585",
   "metadata": {},
   "outputs": [],
   "source": [
    "stacks = read_stacks(input_file)"
   ]
  },
  {
   "cell_type": "code",
   "execution_count": 11,
   "id": "6b476192",
   "metadata": {},
   "outputs": [
    {
     "data": {
      "text/plain": [
       "{1: 'DPJTV',\n",
       " 2: 'MNHM',\n",
       " 3: 'RQFPTN',\n",
       " 4: 'DQ',\n",
       " 5: 'F',\n",
       " 6: 'RHPRFRSQDPPMGLLSWWZB',\n",
       " 7: 'HP',\n",
       " 8: 'HSTMSRGPHGFHCLZ',\n",
       " 9: 'H'}"
      ]
     },
     "execution_count": 11,
     "metadata": {},
     "output_type": "execute_result"
    }
   ],
   "source": [
    "move_all_crates(input_file, stacks, '9001')"
   ]
  },
  {
   "cell_type": "markdown",
   "id": "55856a25",
   "metadata": {},
   "source": [
    "Part 2"
   ]
  },
  {
   "cell_type": "code",
   "execution_count": 12,
   "id": "43d97e7f",
   "metadata": {},
   "outputs": [
    {
     "data": {
      "text/plain": [
       "'DMRDFRHHH'"
      ]
     },
     "execution_count": 12,
     "metadata": {},
     "output_type": "execute_result"
    }
   ],
   "source": [
    "top_crates(stacks)"
   ]
  },
  {
   "cell_type": "code",
   "execution_count": null,
   "id": "9da7130b",
   "metadata": {},
   "outputs": [],
   "source": []
  }
 ],
 "metadata": {
  "kernelspec": {
   "display_name": "Python 3 (ipykernel)",
   "language": "python",
   "name": "python3"
  },
  "language_info": {
   "codemirror_mode": {
    "name": "ipython",
    "version": 3
   },
   "file_extension": ".py",
   "mimetype": "text/x-python",
   "name": "python",
   "nbconvert_exporter": "python",
   "pygments_lexer": "ipython3",
   "version": "3.9.9"
  }
 },
 "nbformat": 4,
 "nbformat_minor": 5
}
