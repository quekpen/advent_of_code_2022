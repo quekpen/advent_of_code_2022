{
 "cells": [
  {
   "cell_type": "code",
   "execution_count": 3,
   "id": "0f720b28",
   "metadata": {},
   "outputs": [],
   "source": [
    "import numpy as np"
   ]
  },
  {
   "cell_type": "code",
   "execution_count": 1,
   "id": "eda31d65",
   "metadata": {},
   "outputs": [],
   "source": [
    " with open(\"input.txt\", \"r\") as f:\n",
    "        input_file = list(f.read().splitlines())"
   ]
  },
  {
   "cell_type": "code",
   "execution_count": 25,
   "id": "ebba609f",
   "metadata": {},
   "outputs": [],
   "source": [
    "def process_input_file_into_array(file):\n",
    "    array_input = []\n",
    "    for i in input_file:\n",
    "        row = []\n",
    "        for j in i:    \n",
    "            row += j\n",
    "        array_input.append(row)\n",
    "    output_array = np.asarray(array_input)\n",
    "    return output_array"
   ]
  },
  {
   "cell_type": "code",
   "execution_count": 27,
   "id": "9f709cab",
   "metadata": {},
   "outputs": [],
   "source": [
    "tree_grid = process_input_file_into_array(input_file)"
   ]
  },
  {
   "cell_type": "code",
   "execution_count": 90,
   "id": "9847bfe3",
   "metadata": {},
   "outputs": [],
   "source": [
    "def find_surrounding_trees(x, y, grid):\n",
    "    left = grid[x,:y][::-1]\n",
    "    right = grid[x,y+1:]\n",
    "    up = grid[:x, y][::-1]\n",
    "    down = grid[x+1:, y]\n",
    "    return left, right, up, down"
   ]
  },
  {
   "cell_type": "code",
   "execution_count": 78,
   "id": "1b563755",
   "metadata": {},
   "outputs": [],
   "source": [
    "def determine_if_tree_visible(x, y, grid):\n",
    "    visibilities = []\n",
    "    for direction in find_surrounding_trees(x, y, grid):\n",
    "        visible = True\n",
    "        for tree_height in direction:    \n",
    "            if grid[x,y] <= tree_height:\n",
    "                visible = False\n",
    "        visibilities.append(visible)\n",
    "    if [i for i in visibilities if i == True] != []:\n",
    "        return True\n",
    "    else:\n",
    "        return False"
   ]
  },
  {
   "cell_type": "code",
   "execution_count": 91,
   "id": "d5373758",
   "metadata": {},
   "outputs": [],
   "source": [
    "def count_visible_trees(grid):\n",
    "    tree_count = 0\n",
    "    for x in range(grid.shape[0]):\n",
    "        for y in range(grid.shape[1]):\n",
    "            if determine_if_tree_visible(x, y, grid) == True:\n",
    "                tree_count += 1\n",
    "    return tree_count"
   ]
  },
  {
   "cell_type": "markdown",
   "id": "2dfba0c0",
   "metadata": {},
   "source": [
    "Part 1"
   ]
  },
  {
   "cell_type": "code",
   "execution_count": 92,
   "id": "2cfdee11",
   "metadata": {},
   "outputs": [
    {
     "data": {
      "text/plain": [
       "1835"
      ]
     },
     "execution_count": 92,
     "metadata": {},
     "output_type": "execute_result"
    }
   ],
   "source": [
    "count_visible_trees(tree_grid)"
   ]
  },
  {
   "cell_type": "code",
   "execution_count": 97,
   "id": "009da59b",
   "metadata": {},
   "outputs": [],
   "source": [
    "def determine_scenic_score(x, y, grid):\n",
    "    direction_score = []\n",
    "    for direction in find_surrounding_trees(x, y, grid):\n",
    "        i = 0\n",
    "        while direction[i] < grid[x,y] and i < len(direction) - 1:\n",
    "            i += 1\n",
    "        direction_score.append(i+1)\n",
    "    return np.prod(direction_score)        "
   ]
  },
  {
   "cell_type": "code",
   "execution_count": 99,
   "id": "1cd0f490",
   "metadata": {},
   "outputs": [],
   "source": [
    "def maximise_scenic_score(grid):\n",
    "    max_score = 0\n",
    "    for x in range(1, grid.shape[0] - 1):\n",
    "        for y in range(1, grid.shape[1] - 1):\n",
    "            if determine_scenic_score(x, y, tree_grid) > max_score:\n",
    "                max_score = determine_scenic_score(x, y, tree_grid)\n",
    "    return max_score"
   ]
  },
  {
   "cell_type": "markdown",
   "id": "5cb89831",
   "metadata": {},
   "source": [
    "Part 2"
   ]
  },
  {
   "cell_type": "code",
   "execution_count": 100,
   "id": "c779dec8",
   "metadata": {},
   "outputs": [
    {
     "data": {
      "text/plain": [
       "263670"
      ]
     },
     "execution_count": 100,
     "metadata": {},
     "output_type": "execute_result"
    }
   ],
   "source": [
    "maximise_scenic_score(tree_grid)"
   ]
  }
 ],
 "metadata": {
  "kernelspec": {
   "display_name": "Python 3 (ipykernel)",
   "language": "python",
   "name": "python3"
  },
  "language_info": {
   "codemirror_mode": {
    "name": "ipython",
    "version": 3
   },
   "file_extension": ".py",
   "mimetype": "text/x-python",
   "name": "python",
   "nbconvert_exporter": "python",
   "pygments_lexer": "ipython3",
   "version": "3.9.9"
  }
 },
 "nbformat": 4,
 "nbformat_minor": 5
}
